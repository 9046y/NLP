{
 "cells": [
  {
   "cell_type": "markdown",
   "metadata": {},
   "source": [
    "WordNet is a lexical database for the English language, which was created by Princeton, and is part of the NLTK corpus.\n"
   ]
  },
  {
   "cell_type": "code",
   "execution_count": 5,
   "metadata": {
    "collapsed": false
   },
   "outputs": [
    {
     "name": "stdout",
     "output_type": "stream",
     "text": [
      "doomed.n.01\n",
      "people who are destined to die soon\n",
      "['the agony of the doomed was in his voice']\n",
      "doomed\n"
     ]
    }
   ],
   "source": [
    "from nltk.corpus import wordnet\n",
    "syns = wordnet.synsets(\"lost\")\n",
    "print(syns[0].name())\n",
    "print(syns[0].definition())\n",
    "print(syns[0].examples())\n",
    "print(syns[0].lemmas()[0].name()) #Just the word:"
   ]
  },
  {
   "cell_type": "code",
   "execution_count": 6,
   "metadata": {
    "collapsed": false
   },
   "outputs": [
    {
     "name": "stdout",
     "output_type": "stream",
     "text": [
      "{'expert', 'dependable', 'beneficial', 'full', 'adept', 'undecomposed', 'in_effect', 'commodity', 'thoroughly', 'upright', 'skillful', 'just', 'sound', 'good', 'secure', 'serious', 'effective', 'proficient', 'practiced', 'soundly', 'right', 'goodness', 'estimable', 'salutary', 'in_force', 'respectable', 'unspoiled', 'unspoilt', 'well', 'safe', 'ripe', 'trade_good', 'dear', 'near', 'skilful', 'honorable', 'honest'}\n",
      "{'bad', 'evil', 'ill', 'evilness', 'badness'}\n"
     ]
    }
   ],
   "source": [
    "synonyms = []\n",
    "antonyms = []\n",
    "\n",
    "for syn in wordnet.synsets(\"good\"):\n",
    "    for l in syn.lemmas():\n",
    "        synonyms.append(l.name())\n",
    "        if l.antonyms():\n",
    "            antonyms.append(l.antonyms()[0].name())\n",
    "\n",
    "print(set(synonyms))\n",
    "print(set(antonyms))"
   ]
  },
  {
   "cell_type": "code",
   "execution_count": null,
   "metadata": {
    "collapsed": true
   },
   "outputs": [],
   "source": []
  }
 ],
 "metadata": {
  "kernelspec": {
   "display_name": "Python 3",
   "language": "python",
   "name": "python3"
  },
  "language_info": {
   "codemirror_mode": {
    "name": "ipython",
    "version": 3
   },
   "file_extension": ".py",
   "mimetype": "text/x-python",
   "name": "python",
   "nbconvert_exporter": "python",
   "pygments_lexer": "ipython3",
   "version": "3.4.3"
  }
 },
 "nbformat": 4,
 "nbformat_minor": 0
}
