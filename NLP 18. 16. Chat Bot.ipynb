{
 "cells": [
  {
   "cell_type": "code",
   "execution_count": null,
   "metadata": {
    "collapsed": false
   },
   "outputs": [],
   "source": [
    "from nltk.chat.util import Chat, reflections\n",
    "\n",
    "pairs = [\n",
    "    [\n",
    "        r\"My name is (.*)\",\n",
    "        ['hello %1', '%1 mabuhay ka'],\n",
    "    ],\n",
    "    [\n",
    "        r'hi',\n",
    "        ['hello', 'kamusta', 'mabuhay',],\n",
    "    ],\n",
    "    [\n",
    "        r'(.*) (hungry|sleepy|groot)',\n",
    "        [\n",
    "            \"%1 %2\"\n",
    "        ]\n",
    "    ],\n",
    "    [\n",
    "        r'(.*)(mahal|love)(.*)',\n",
    "        [\n",
    "            \"https://goo.gl/ndTZVq\",\n",
    "            \"I always thought Love was a static class until you made an instance of it.\",\n",
    "            \"I love user interfaces it's because that's where U and I are always together.\",\n",
    "        ],\n",
    "    ],\n",
    "    [\n",
    "        r'(.*)(relationship)(.*)',\n",
    "        [\n",
    "            \"Mabuti pa sa database may relationship. Eh tayo, wala.\",\n",
    "        ],\n",
    "    ],\n",
    "    [\n",
    "        r'(meron|mayron|ano|does|is there|what) (.*) (forever)(.*)',\n",
    "        [\n",
    "            \"Loading...\",\n",
    "            \"None\",\n",
    "            \"while True: pass\",\n",
    "        ],\n",
    "    ],\n",
    "    [\n",
    "        r'(.*)', # default response if no patterns from above is found\n",
    "        [\n",
    "            \"http://lmgtfy.com/?q=%1\",\n",
    "            \"Sorry I don't know what `%1` is?\",\n",
    "        ],\n",
    "    ],\n",
    "]\n",
    "\n",
    "def hugot_bot():\n",
    "    print(\"Hi what's your name?\")\n",
    "    chat = Chat(pairs, reflections)\n",
    "    chat.converse()\n",
    "\n",
    "if __name__ == \"__main__\":\n",
    "    hugot_bot()"
   ]
  },
  {
   "cell_type": "code",
   "execution_count": null,
   "metadata": {
    "collapsed": true
   },
   "outputs": [],
   "source": []
  }
 ],
 "metadata": {
  "kernelspec": {
   "display_name": "Python 3",
   "language": "python",
   "name": "python3"
  },
  "language_info": {
   "codemirror_mode": {
    "name": "ipython",
    "version": 3
   },
   "file_extension": ".py",
   "mimetype": "text/x-python",
   "name": "python",
   "nbconvert_exporter": "python",
   "pygments_lexer": "ipython3",
   "version": "3.4.3"
  }
 },
 "nbformat": 4,
 "nbformat_minor": 0
}
