{
 "cells": [
  {
   "cell_type": "raw",
   "metadata": {},
   "source": [
    "Optical character recognition (OCR) is an application of NLP and computer\n",
    "vision, where given a handwritten document/ non-digital document, the system\n",
    "can recognize the text and extract it into digital format. This has also been widely\n",
    "researched in the area of machine learning for many years. Some of the big OCR\n",
    "projects are Google Books, where they use OCR to convert non-digital books into a\n",
    "centralized library."
   ]
  },
  {
   "cell_type": "raw",
   "metadata": {},
   "source": [
    "Language detection\n",
    "Given a snippet of text, the detection of language is also a problem. The application\n",
    "of language detection is very important for some of the other NLP applications, such\n",
    "as search, machine translation, speech, and so on. The main concept is learning from\n",
    "the text as features what the language is. "
   ]
  },
  {
   "cell_type": "raw",
   "metadata": {},
   "source": [
    "Topic modeling\n",
    "Topic modeling, in the context of a large amount of unstructured text content, is\n",
    "really an amazing application, where the primary task is to identify the emerging\n",
    "topics in the corpus and then categorize the documents in the corpus as per these\n",
    "topics"
   ]
  },
  {
   "cell_type": "raw",
   "metadata": {},
   "source": [
    "Question answering systems\n",
    "Question answering (QA) systems are intelligent systems that can address any\n",
    "question based on their knowledge base. One of the major examples of this is IBM\n",
    "Watson, which took part in the TV show Jeopardy and won over human opponents. "
   ]
  },
  {
   "cell_type": "raw",
   "metadata": {},
   "source": [
    "Information retrieval (IR) is also one of the most popular and widely used\n",
    "applications. The best exmple of IR is Google Search, where—given an input\n",
    "query from the user—the information retrieval algorithm will try to retrieve the\n",
    "information which is relevant to the user's query.\n",
    "In simple words, IR is the process of obtaining the most relevant information that is\n",
    "needed by the user. There are a variety of ways in which the information needs can\n",
    "be addressed to the system, but the system eventually retrieves the most relevant\n",
    "infromation."
   ]
  },
  {
   "cell_type": "code",
   "execution_count": null,
   "metadata": {
    "collapsed": true
   },
   "outputs": [],
   "source": []
  }
 ],
 "metadata": {
  "kernelspec": {
   "display_name": "Python 3",
   "language": "python",
   "name": "python3"
  },
  "language_info": {
   "codemirror_mode": {
    "name": "ipython",
    "version": 3
   },
   "file_extension": ".py",
   "mimetype": "text/x-python",
   "name": "python",
   "nbconvert_exporter": "python",
   "pygments_lexer": "ipython3",
   "version": "3.4.3"
  }
 },
 "nbformat": 4,
 "nbformat_minor": 0
}
