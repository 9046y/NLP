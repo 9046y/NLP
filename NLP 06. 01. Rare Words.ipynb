{
 "cells": [
  {
   "cell_type": "raw",
   "metadata": {},
   "source": [
    "We also use length of the words as a criteria for removing words with very a short length or a very\n",
    "long length"
   ]
  },
  {
   "cell_type": "code",
   "execution_count": 9,
   "metadata": {
    "collapsed": false
   },
   "outputs": [
    {
     "name": "stdout",
     "output_type": "stream",
     "text": [
      "n't;1\n",
      ".;1\n"
     ]
    }
   ],
   "source": [
    "import nltk\n",
    "from nltk.tokenize import word_tokenize\n",
    "word_tokens= word_tokenize(\"Can't is a contraction.\")\n",
    "\n",
    "# tokens is a list of all tokens in corpus\n",
    "freq_dist = nltk.FreqDist(word_tokens)\n",
    "\n",
    "for word, frequency in freq_dist.most_common(2):\n",
    "    print(u'{};{}'.format(word, frequency))\n",
    "    \n",
    "#after_rare_words = [ word for word in token not in rarewords]"
   ]
  },
  {
   "cell_type": "code",
   "execution_count": null,
   "metadata": {
    "collapsed": true
   },
   "outputs": [],
   "source": []
  }
 ],
 "metadata": {
  "kernelspec": {
   "display_name": "Python 3",
   "language": "python",
   "name": "python3"
  },
  "language_info": {
   "codemirror_mode": {
    "name": "ipython",
    "version": 3
   },
   "file_extension": ".py",
   "mimetype": "text/x-python",
   "name": "python",
   "nbconvert_exporter": "python",
   "pygments_lexer": "ipython3",
   "version": "3.4.3"
  }
 },
 "nbformat": 4,
 "nbformat_minor": 0
}
