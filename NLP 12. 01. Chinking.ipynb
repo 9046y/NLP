{
 "cells": [
  {
   "cell_type": "raw",
   "metadata": {},
   "source": [
    "Sometimes it is easier to define what we want to exclude from a chunk. We can define a chink to be a sequence of tokens that is not included in a chunk. \n",
    "\n",
    "The pattern for specifying a chunk is to use surrounding curly braces, such as {<DT><NN>}.\n",
    "To specify a chink, you  ip the braces, such as }<VB>{"
   ]
  },
  {
   "cell_type": "code",
   "execution_count": 4,
   "metadata": {
    "collapsed": false
   },
   "outputs": [
    {
     "name": "stdout",
     "output_type": "stream",
     "text": [
      "[('This', 'DT'), ('will', 'MD'), ('be', 'VB'), ('the', 'DT'), ('day', 'NN'), ('that', 'IN'), ('I', 'PRP'), ('will', 'MD'), ('chink', 'VB'), ('all', 'PDT'), ('the', 'DT'), ('nouns', 'NNS'), ('.', '.'), ('Everything', 'NN'), ('will', 'MD'), ('be', 'VB'), ('there.Except', 'JJ'), ('nouns', 'NNS')]\n"
     ]
    }
   ],
   "source": [
    "import nltk\n",
    "from nltk.tokenize import word_tokenize\n",
    "\n",
    "sent = \"This will be the day that I will chink all the nouns. Everything will be there.Except nouns\"\n",
    "\n",
    "print(nltk.pos_tag(word_tokenize(sent)))\n",
    "\n",
    "# first chunk everything and chink only nouns\n",
    "chunkRule = r\"\"\"Chunk: {<.*>+}\n",
    "                        }<NN.?|NNS|NNP|NNPS>+{\"\"\"\n",
    "\n",
    "MyParser = nltk.RegexpParser(chunkRule)\n",
    "chunked = MyParser.parse(nltk.pos_tag(word_tokenize(sent)))\n"
   ]
  },
  {
   "cell_type": "raw",
   "metadata": {
    "collapsed": true
   },
   "source": [
    "Now, the main difference here is:\n",
    "\n",
    "}<VB.?|IN|DT|TO>+{\n",
    "This means we're removing from the chink one or more verbs, prepositions, determiners, or the word 'to'.\n",
    "\n"
   ]
  },
  {
   "cell_type": "code",
   "execution_count": null,
   "metadata": {
    "collapsed": true
   },
   "outputs": [],
   "source": []
  }
 ],
 "metadata": {
  "kernelspec": {
   "display_name": "Python 3",
   "language": "python",
   "name": "python3"
  },
  "language_info": {
   "codemirror_mode": {
    "name": "ipython",
    "version": 3
   },
   "file_extension": ".py",
   "mimetype": "text/x-python",
   "name": "python",
   "nbconvert_exporter": "python",
   "pygments_lexer": "ipython3",
   "version": "3.4.3"
  }
 },
 "nbformat": 4,
 "nbformat_minor": 0
}
