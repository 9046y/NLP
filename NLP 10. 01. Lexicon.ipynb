{
 "cells": [
  {
   "cell_type": "raw",
   "metadata": {},
   "source": [
    "Corpus basically means a body, and in the context of Natural Language Processing (NLP), it means a body of text.\n",
    "\n",
    "Lexicon is a vocabulary, a list of words, a dictionary.\n",
    "\n",
    "Any lexicon is considered a corpus since a list of words is also a body of text. \n"
   ]
  },
  {
   "cell_type": "raw",
   "metadata": {},
   "source": [
    "The movie review dataset in NLTK (canonically known as Movie Reviews Corpus) is a text dataset of 2k movie reviews with sentiment polarity classification.\n",
    "\n",
    "WordNet is lexical database for the English language "
   ]
  }
 ],
 "metadata": {
  "kernelspec": {
   "display_name": "Python 3",
   "language": "python",
   "name": "python3"
  },
  "language_info": {
   "codemirror_mode": {
    "name": "ipython",
    "version": 3
   },
   "file_extension": ".py",
   "mimetype": "text/x-python",
   "name": "python",
   "nbconvert_exporter": "python",
   "pygments_lexer": "ipython3",
   "version": "3.4.3"
  }
 },
 "nbformat": 4,
 "nbformat_minor": 0
}
