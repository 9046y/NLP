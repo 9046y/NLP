{
 "cells": [
  {
   "cell_type": "raw",
   "metadata": {},
   "source": [
    "The part of speech explains how a word is used in a sentence. There are eight main parts of speech - nouns, pronouns, adjectives, verbs, adverbs, prepositions, conjunctions and interjections.\n"
   ]
  },
  {
   "cell_type": "raw",
   "metadata": {},
   "source": [
    "Tag\t             Meaning\t       Examples\n",
    "ADJ\t             adjective\tnew, good, high, special, big, local\n",
    "ADV\t             adverb\treally, already, still, early, now\n",
    "CONJ\t         conjunction\tand, or, but, if, while, although\n",
    "DET\t             determiner\tthe, a, some, most, every, no\n",
    "X\t             other, foreign words\tdolce, ersatz, esprit, quo, maitre\n",
    "NOUN\t         noun\tyear, home, costs, time, education\n",
    "PROPN\t         proper noun\tAlison, Africa, April, Washington\n",
    "NUM\t             numeral\ttwenty-four, fourth, 1991, 14:24\n",
    "PRON\t         pronoun\the, their, her, its, my, I, us\n",
    "ADP\t             adposition, preposition\ton, of, at, with, by, into, under\n",
    "AUX\t             auxiliary verb\thas (done), is (doing), will (do), should (do), must (do), can (do)\n",
    "INTJ\t         interjection\tah, bang, ha, whee, hmpf, oops\n",
    "VERB\t         verb\tis, has, get, do, make, see, run\n",
    "PART\t         particle\tpossessive marker 's, negation 'not'\n",
    "SCONJ\t         subordinating conjunction: complementizer, adverbial clause introducer\tI believe 'that' he will come, if, while\n",
    "SYM\t             symbol\t$, %, (C), +, *, /, =, :), john.doe@example.com"
   ]
  },
  {
   "cell_type": "raw",
   "metadata": {},
   "source": [
    "A part-of-speech tagger, or POS tagger, processes a sequence of words, and attaches a part of speech tag to each word.\n",
    "\n",
    "Part-of-speech (POS) tagging is the process of assigning a word to its grammatical category, in order to understand its role within the sentence. Traditional parts of speech are nouns, verbs, adverbs, conjunctions, etc.\n",
    "\n",
    "Part-of-speech taggers typically take a sequence of words (i.e. a sentence) as input, and provide a list of tuples as output, where each word is associated with the related tag. tag signifies whether the word is a noun, adjective, verb, and so on.\n",
    "\n",
    "Part-of-speech tagging is a necessary step before chunking.\n",
    "\n",
    "For example, the word duck could refer to a bird, or it could be a verb indicating a downward motion. Computers cannot know the difference without additional information, such as part-of-speech tags.\n"
   ]
  },
  {
   "cell_type": "raw",
   "metadata": {},
   "source": [
    "Several large corpora (such as the Brown Corpus and portions of the Wall Street\n",
    "Journal) have been manually tagged with part-of-speech tags. These corpora are primarily\n",
    "useful for testing taggers and for training statistical taggers. However, before\n",
    "we can use these corpora, we must read them from files and tokenize them.\n",
    "Tagged texts are usually stored in files as a sequences of whitespace-separated tokens,\n",
    "where each token is of the form base/tag. Figure 1 shows an example of\n",
    "some tagged text, taken from the Brown corpus.\n",
    "\n",
    "The/at grand/jj jury/nn commented/vbd on/in a/at number/nn of/in\n",
    "other/ap topics/nns ,/, among/in them/ppo the/at Atlanta/np and/cc\n",
    "Fulton/np-tl County/nn-tl purchasing/vbg departments/nns which/wdt\n",
    "it/pps said/vbd “/“ are/ber well/ql operated/vbn and/cc follow/vb\n",
    "generally/rb accepted/vbn practices/nns which/wdt inure/vb to/in\n",
    "the/at best/jjt interest/nn of/in both/abx governments/nns ”/” ./.\n",
    "\n",
    "We're going to use the treebank corpus , because it's a common standard and is quick to load and test. But everything we do should apply equally well to brown, conll2000, and any other part-of-speech tagged corpus."
   ]
  },
  {
   "cell_type": "code",
   "execution_count": 21,
   "metadata": {
    "collapsed": false
   },
   "outputs": [
    {
     "data": {
      "text/plain": [
       "[('And', 'CC'),\n",
       " ('now', 'RB'),\n",
       " ('for', 'IN'),\n",
       " ('something', 'NN'),\n",
       " ('completely', 'RB'),\n",
       " ('different', 'JJ')]"
      ]
     },
     "execution_count": 21,
     "metadata": {},
     "output_type": "execute_result"
    }
   ],
   "source": [
    "import nltk\n",
    "text = nltk.word_tokenize(\"And now for something completely different\")\n",
    "nltk.pos_tag(text)"
   ]
  },
  {
   "cell_type": "raw",
   "metadata": {},
   "source": [
    "CC coordinating conjunction \n",
    "RB adverbs\n",
    "IN preposition\n",
    "NN noun\n",
    "JJ adjective."
   ]
  },
  {
   "cell_type": "code",
   "execution_count": 22,
   "metadata": {
    "collapsed": false
   },
   "outputs": [
    {
     "data": {
      "text/plain": [
       "[('They', 'PRP'),\n",
       " ('refuse', 'VBP'),\n",
       " ('to', 'TO'),\n",
       " ('permit', 'VB'),\n",
       " ('us', 'PRP'),\n",
       " ('to', 'TO'),\n",
       " ('obtain', 'VB'),\n",
       " ('the', 'DT'),\n",
       " ('refuse', 'NN'),\n",
       " ('permit', 'NN')]"
      ]
     },
     "execution_count": 22,
     "metadata": {},
     "output_type": "execute_result"
    }
   ],
   "source": [
    "text = nltk.word_tokenize(\"They refuse to permit us to obtain the refuse permit\")\n",
    "nltk.pos_tag(text)"
   ]
  },
  {
   "cell_type": "raw",
   "metadata": {},
   "source": [
    "Notice that refuse and permit both appear as a present tense verb (VBP) and a noun (NN). E.g., refUSE is a verb meaning “deny,” while REFuse is a noun meaning “trash” (i.e., they are not homophones). Thus, we need to know which word is being used in order to pronounce the text correctly. \n",
    "\n",
    "Many words, like ski and race, can be used as nouns or verbs with no difference in pronunciation. "
   ]
  },
  {
   "cell_type": "code",
   "execution_count": 19,
   "metadata": {
    "collapsed": false
   },
   "outputs": [
    {
     "data": {
      "text/plain": [
       "[('I', 'PRP'), ('was', 'VBD'), ('watching', 'VBG'), ('TV', 'NN')]"
      ]
     },
     "execution_count": 19,
     "metadata": {},
     "output_type": "execute_result"
    }
   ],
   "source": [
    "import nltk\n",
    "text = nltk.word_tokenize(\"I was watching TV\")\n",
    "tagged = nltk.pos_tag(text)\n",
    "tagged"
   ]
  },
  {
   "cell_type": "code",
   "execution_count": 20,
   "metadata": {
    "collapsed": false
   },
   "outputs": [
    {
     "data": {
      "text/plain": [
       "['TV']"
      ]
     },
     "execution_count": 20,
     "metadata": {},
     "output_type": "execute_result"
    }
   ],
   "source": [
    "# Now this code snippet will give us all the nouns in the given sentence\n",
    "allnoun = [word for word,pos in tagged if pos in ['NN','NNP'] ]\n",
    "allnoun"
   ]
  }
 ],
 "metadata": {
  "kernelspec": {
   "display_name": "Python 3",
   "language": "python",
   "name": "python3"
  },
  "language_info": {
   "codemirror_mode": {
    "name": "ipython",
    "version": 3
   },
   "file_extension": ".py",
   "mimetype": "text/x-python",
   "name": "python",
   "nbconvert_exporter": "python",
   "pygments_lexer": "ipython3",
   "version": "3.4.3"
  }
 },
 "nbformat": 4,
 "nbformat_minor": 0
}
