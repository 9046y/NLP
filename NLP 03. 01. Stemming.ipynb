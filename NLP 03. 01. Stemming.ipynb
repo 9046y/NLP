{
 "cells": [
  {
   "cell_type": "code",
   "execution_count": null,
   "metadata": {},
   "outputs": [],
   "source": [
    "Stemming, in literal terms, is the process of cutting down the branches of a tree to its stem\n",
    "# Stemming is a technique to remove afxes from a word. For example, the stem of cooking is cook. \n",
    "# Stemming is most commonly used by search engines for indexing words. Instead of storing all forms of a word, \n",
    "a search engine can store only the stems, greatly reducing the size of index while increasing retrieval accuracy.\n",
    "\n",
    "# One of the most common stemming algorithms is the Porter stemming algorithm by Martin Porter. \n",
    "# The resulting stem is not always a valid word. For example, the stem of cookery is cookeri.\n",
    "This is a feature, not a bug.\n"
   ]
  },
  {
   "cell_type": "code",
   "execution_count": 1,
   "metadata": {},
   "outputs": [
    {
     "data": {
      "text/plain": [
       "'cook'"
      ]
     },
     "execution_count": 1,
     "metadata": {},
     "output_type": "execute_result"
    }
   ],
   "source": [
    "from nltk.stem import PorterStemmer\n",
    "\n",
    "stemmer = PorterStemmer()\n",
    "stemmer.stem('cooking')\n"
   ]
  },
  {
   "cell_type": "code",
   "execution_count": 2,
   "metadata": {},
   "outputs": [
    {
     "data": {
      "text/plain": [
       "'cookeri'"
      ]
     },
     "execution_count": 2,
     "metadata": {},
     "output_type": "execute_result"
    }
   ],
   "source": [
    "stemmer.stem('cookery')"
   ]
  },
  {
   "cell_type": "code",
   "execution_count": null,
   "metadata": {},
   "outputs": [],
   "source": [
    "There are other stemming algorithms out there besides the Porter stemming algorithm, such as the Lancaster stemming \n",
    "algorithm, developed at Lancaster University. NLTK includes it as the LancasterStemmer class. Currently there is no \n",
    "denitive research demonstrating the superiority of one algorithm over the other. However, Porter stemming algorithm \n",
    "is generally the default choice."
   ]
  },
  {
   "cell_type": "code",
   "execution_count": 4,
   "metadata": {},
   "outputs": [
    {
     "data": {
      "text/plain": [
       "'cookery'"
      ]
     },
     "execution_count": 4,
     "metadata": {},
     "output_type": "execute_result"
    }
   ],
   "source": [
    "from nltk.stem import LancasterStemmer\n",
    "stemmer = LancasterStemmer()\n",
    "stemmer.stem('cookery')"
   ]
  },
  {
   "cell_type": "code",
   "execution_count": null,
   "metadata": {},
   "outputs": [],
   "source": [
    "You can also construct your own stemmer using the RegexpStemmer class. \n",
    "A RegexpStemmer class should only be used in very speci c cases that are not covered by the PorterStemmer or \n",
    "the LancasterStemmer class because it can only handle very speci c patterns and is not a general-purpose algorithm.\n"
   ]
  },
  {
   "cell_type": "code",
   "execution_count": 7,
   "metadata": {},
   "outputs": [
    {
     "data": {
      "text/plain": [
       "'cook'"
      ]
     },
     "execution_count": 7,
     "metadata": {},
     "output_type": "execute_result"
    }
   ],
   "source": [
    "from nltk.stem import RegexpStemmer\n",
    "stemmer = RegexpStemmer('ing')  #removes any pre x or suf x that matches the expression\n",
    "stemmer.stem('cooking')\n"
   ]
  },
  {
   "cell_type": "code",
   "execution_count": 8,
   "metadata": {},
   "outputs": [
    {
     "data": {
      "text/plain": [
       "'cookery'"
      ]
     },
     "execution_count": 8,
     "metadata": {},
     "output_type": "execute_result"
    }
   ],
   "source": [
    "stemmer.stem('cookery')"
   ]
  },
  {
   "cell_type": "code",
   "execution_count": 9,
   "metadata": {},
   "outputs": [
    {
     "data": {
      "text/plain": [
       "'leside'"
      ]
     },
     "execution_count": 9,
     "metadata": {},
     "output_type": "execute_result"
    }
   ],
   "source": [
    "stemmer.stem('ingleside')"
   ]
  },
  {
   "cell_type": "code",
   "execution_count": null,
   "metadata": {},
   "outputs": [],
   "source": [
    "But most users can live with Porter and Snowball stemmer for a large\n",
    "number of use cases. In modern NLP applications, sometimes people\n",
    "even ignore stemming as a pre-processing step, so it typically depends\n",
    "on your domain and application. I would also like to tell you the fact\n",
    "that if you want to use some NLP taggers, like Part of Speech tagger\n",
    "(POS), NER or dependency parser, you should avoid stemming, because\n",
    "stemming will modify the token and this can result in a different result. "
   ]
  },
  {
   "cell_type": "code",
   "execution_count": null,
   "metadata": {
    "collapsed": true
   },
   "outputs": [],
   "source": []
  }
 ],
 "metadata": {
  "kernelspec": {
   "display_name": "Python 3",
   "language": "python",
   "name": "python3"
  },
  "language_info": {
   "codemirror_mode": {
    "name": "ipython",
    "version": 3
   },
   "file_extension": ".py",
   "mimetype": "text/x-python",
   "name": "python",
   "nbconvert_exporter": "python",
   "pygments_lexer": "ipython3",
   "version": "3.5.2"
  }
 },
 "nbformat": 4,
 "nbformat_minor": 1
}
