{
 "cells": [
  {
   "cell_type": "code",
   "execution_count": null,
   "metadata": {},
   "outputs": [],
   "source": [
    "\n",
    "• (a period): This expression matches any single character except newline \\n.\n",
    "• \\w: This expression will match a character or a digit equivalent to [a-z A-Z\n",
    "0-9]\n",
    "• \\W (upper case W) matches any non-word character.\n",
    "• \\s: This expression (lowercase s) matches a single whitespace character -\n",
    "space, newline, return, tab, form [\\n\\r\\t\\f].\n",
    "• \\S: This expression matches any non-whitespace character.\n",
    "• \\t: This expression performs a tab operation.\n",
    "• \\n: This expression is used for a newline character.\n",
    "• \\r: This expression is used for a return character.\n",
    "• \\d: Decimal digit [0-9].\n",
    "• ^: This expression is used at the start of the string.\n",
    "• $: This expression is used at the end of the string.\n",
    "• \\: This expression is used to nullify the specialness of the special character.\n",
    "For example, you want to match the $ symbol, then add \\ in front of it."
   ]
  },
  {
   "cell_type": "raw",
   "metadata": {
    "collapsed": true
   },
   "source": [
    "https://www.youtube.com/channel/UCfzlCWGWYyIQ0aLC5w48gBQ    \n",
    "sentdex\n"
   ]
  }
 ],
 "metadata": {
  "kernelspec": {
   "display_name": "Python 3",
   "language": "python",
   "name": "python3"
  },
  "language_info": {
   "codemirror_mode": {
    "name": "ipython",
    "version": 3
   },
   "file_extension": ".py",
   "mimetype": "text/x-python",
   "name": "python",
   "nbconvert_exporter": "python",
   "pygments_lexer": "ipython3",
   "version": "3.5.2"
  }
 },
 "nbformat": 4,
 "nbformat_minor": 1
}
