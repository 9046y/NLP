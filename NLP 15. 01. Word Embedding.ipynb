{
 "cells": [
  {
   "cell_type": "code",
   "execution_count": null,
   "metadata": {},
   "outputs": [],
   "source": [
    "Word Embeddings are the texts converted into numbers and there may be different numerical representations of the\n",
    "same text. "
   ]
  },
  {
   "cell_type": "code",
   "execution_count": null,
   "metadata": {},
   "outputs": [],
   "source": [
    "The different types of word embeddings can be broadly classified into two categories-\n",
    "\n",
    "1. Frequency based Embedding\n",
    "2. Prediction based Embedding"
   ]
  },
  {
   "cell_type": "code",
   "execution_count": null,
   "metadata": {},
   "outputs": [],
   "source": [
    "Frequency based Embedding\n",
    "1. Count Vector\n",
    "2. TF-IDF Vector\n",
    "3. Co-Occurrence Vector\n",
    "Prediction based Embedding\n",
    "1. CBOW (Continuous Bag of words)\n",
    "2. Skip-Gram\n",
    "\n",
    "\n",
    "Word2vec is not a single algorithm but a combination of two techniques – CBOW(Continuous bag of words) \n",
    "and Skip-gram model."
   ]
  },
  {
   "cell_type": "code",
   "execution_count": null,
   "metadata": {},
   "outputs": [],
   "source": [
    "The TfidfTransformer transforms a count matrix to a normalized tf or tf-idf representation. So although both the \n",
    "CountVectorizer and TfidfTransformer (with use_idf=False) produce term frequencies, TfidfTransformer is normalizing\n",
    "the count."
   ]
  },
  {
   "cell_type": "code",
   "execution_count": 3,
   "metadata": {},
   "outputs": [
    {
     "data": {
      "text/plain": [
       "array([[0.81940995, 0.        , 0.57320793],\n",
       "       [1.        , 0.        , 0.        ],\n",
       "       [1.        , 0.        , 0.        ],\n",
       "       [1.        , 0.        , 0.        ],\n",
       "       [0.47330339, 0.88089948, 0.        ],\n",
       "       [0.33653362, 0.        , 0.94167145]])"
      ]
     },
     "execution_count": 3,
     "metadata": {},
     "output_type": "execute_result"
    }
   ],
   "source": [
    "from sklearn.feature_extraction.text import TfidfTransformer\n",
    "# create tf-idf object\n",
    "transformer = TfidfTransformer(smooth_idf=False)\n",
    "# X can be obtained as X.toarray() from the previous snippet\n",
    "X = [[3, 0, 1],\n",
    "     [5, 0, 0],\n",
    "     [3, 0, 0],\n",
    "     [1, 0, 0],\n",
    "     [3, 2, 0],\n",
    "     [3, 0, 4]]\n",
    "# learn the vocabulary and store tf-idf sparse matrix in tfidf\n",
    "tfidf = transformer.fit_transform(X)\n",
    "# retrieving matrix in numpy form as we did it before\n",
    "tfidf.toarray() "
   ]
  },
  {
   "cell_type": "raw",
   "metadata": {},
   "source": [
    "The first term is present 100% of the time hence not very interesting. The two other features only in less than 50% of the time hence probably more representative of the content of the documents"
   ]
  }
 ],
 "metadata": {
  "kernelspec": {
   "display_name": "Python 3",
   "language": "python",
   "name": "python3"
  },
  "language_info": {
   "codemirror_mode": {
    "name": "ipython",
    "version": 3
   },
   "file_extension": ".py",
   "mimetype": "text/x-python",
   "name": "python",
   "nbconvert_exporter": "python",
   "pygments_lexer": "ipython3",
   "version": "3.5.2"
  }
 },
 "nbformat": 4,
 "nbformat_minor": 1
}
